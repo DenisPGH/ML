{
 "cells": [
  {
   "cell_type": "code",
   "execution_count": 107,
   "id": "3e877300",
   "metadata": {},
   "outputs": [
    {
     "name": "stdout",
     "output_type": "stream",
     "text": [
      "<class 'pandas.core.frame.DataFrame'>\n",
      "RangeIndex: 1200 entries, 0 to 1199\n",
      "Data columns (total 3 columns):\n",
      " #   Column      Non-Null Count  Dtype  \n",
      "---  ------      --------------  -----  \n",
      " 0   points      1200 non-null   object \n",
      " 1   direction   1200 non-null   float64\n",
      " 2   correction  1200 non-null   float64\n",
      "dtypes: float64(2), object(1)\n",
      "memory usage: 28.2+ KB\n"
     ]
    }
   ],
   "source": [
    "# load the data set\n",
    "import pandas as pd\n",
    "MY_HOUSING_PATH=\"C:/Users/Owner/Desktop/projects\\ML/chapter_2/ml_scans.csv\"\n",
    "\n",
    "def load_data(housing_path=MY_HOUSING_PATH):\n",
    "    return pd.read_csv(MY_HOUSING_PATH)\n",
    "\n",
    "scans=load_data()\n",
    "\n",
    "scans.info()"
   ]
  },
  {
   "cell_type": "code",
   "execution_count": 54,
   "id": "d4c6cd8e",
   "metadata": {},
   "outputs": [
    {
     "data": {
      "text/plain": [
       "300     -500.0\n",
       "301    -1000.0\n",
       "302    -1500.0\n",
       "303    -2000.0\n",
       "304    -2500.0\n",
       "305    -3000.0\n",
       "306    -3500.0\n",
       "307    -4000.0\n",
       "308    -4500.0\n",
       "309    18000.0\n",
       "310    17500.0\n",
       "311    17000.0\n",
       "312    16500.0\n",
       "313    16000.0\n",
       "314    15500.0\n",
       "315    15000.0\n",
       "316    14500.0\n",
       "317    14000.0\n",
       "318    13500.0\n",
       "319    13000.0\n",
       "320    12500.0\n",
       "321    12000.0\n",
       "322    11500.0\n",
       "323    11000.0\n",
       "324    10500.0\n",
       "325    10000.0\n",
       "326     9500.0\n",
       "327      -90.0\n",
       "328      -95.0\n",
       "329     -100.0\n",
       "Name: correction, dtype: float64"
      ]
     },
     "execution_count": 54,
     "metadata": {},
     "output_type": "execute_result"
    }
   ],
   "source": [
    "scans['correction'][300:330]"
   ]
  },
  {
   "cell_type": "code",
   "execution_count": 108,
   "id": "e2f6f2cc",
   "metadata": {},
   "outputs": [
    {
     "data": {
      "text/plain": [
       "300     -5.00\n",
       "301    -10.00\n",
       "302    -15.00\n",
       "303    -20.00\n",
       "304    -25.00\n",
       "305    -30.00\n",
       "306    -35.00\n",
       "307    -40.00\n",
       "308    -45.00\n",
       "309    180.00\n",
       "310    175.00\n",
       "311    170.00\n",
       "312    165.00\n",
       "313    160.00\n",
       "314    155.00\n",
       "315    150.00\n",
       "316    145.00\n",
       "317    140.00\n",
       "318    135.00\n",
       "319    130.00\n",
       "320    125.00\n",
       "321    120.00\n",
       "322    115.00\n",
       "323    110.00\n",
       "324    105.00\n",
       "325    100.00\n",
       "326     95.00\n",
       "327     -0.90\n",
       "328     -0.95\n",
       "329     -1.00\n",
       "Name: correction, dtype: float64"
      ]
     },
     "execution_count": 108,
     "metadata": {},
     "output_type": "execute_result"
    }
   ],
   "source": [
    "scans.loc[scans[\"correction\"] > 360, \"correction\"] = scans[\"correction\"]/100\n",
    "scans.loc[scans[\"correction\"]  <0, \"correction\"] = scans[\"correction\"]/100\n",
    "scans['correction'][300:330]"
   ]
  },
  {
   "cell_type": "code",
   "execution_count": 56,
   "id": "4f1e5c2d",
   "metadata": {},
   "outputs": [
    {
     "name": "stdout",
     "output_type": "stream",
     "text": [
      "<class 'pandas.core.frame.DataFrame'>\n",
      "RangeIndex: 1200 entries, 0 to 1199\n",
      "Data columns (total 3 columns):\n",
      " #   Column      Non-Null Count  Dtype  \n",
      "---  ------      --------------  -----  \n",
      " 0   points      1200 non-null   object \n",
      " 1   direction   1200 non-null   float64\n",
      " 2   correction  1200 non-null   float64\n",
      "dtypes: float64(2), object(1)\n",
      "memory usage: 28.2+ KB\n"
     ]
    }
   ],
   "source": [
    "scans.info()"
   ]
  },
  {
   "cell_type": "code",
   "execution_count": 57,
   "id": "f744fc67",
   "metadata": {},
   "outputs": [
    {
     "data": {
      "text/plain": [
       "0.0      648\n",
       "5.0       12\n",
       "10.0      12\n",
       "30.0      12\n",
       "35.0      11\n",
       "        ... \n",
       "96.0       1\n",
       "98.0       1\n",
       "102.0      1\n",
       "82.0       1\n",
       "56.0       1\n",
       "Name: correction, Length: 135, dtype: int64"
      ]
     },
     "execution_count": 57,
     "metadata": {},
     "output_type": "execute_result"
    }
   ],
   "source": [
    "scans['correction'].value_counts()"
   ]
  },
  {
   "cell_type": "code",
   "execution_count": 97,
   "id": "7f467e40",
   "metadata": {},
   "outputs": [
    {
     "name": "stdout",
     "output_type": "stream",
     "text": [
      "[[353.34375, 390.0], [354.625, 390.0], [355.9375, 394.0], [1.171875, 422.0], [5.078125, 422.0], [6.390625, 415.0], [7.71875, 411.0], [12.921875, 349.0], [14.234375, 357.0], [33.21875, 133.0], [34.484375, 133.0], [35.8125, 135.0], [40.796875, 161.0], [42.140625, 164.0], [315.796875, 61.0], [316.921875, 62.0], [318.328125, 64.0], [319.421875, 66.0], [320.84375, 68.0], [321.9375, 70.0], [323.203125, 72.0], [325.671875, 77.0], [328.265625, 82.0]]\n",
      "<class 'str'>\n"
     ]
    }
   ],
   "source": [
    "#scans.loc[scans[\"points\"], \"points\"] = list(scans[\"points\"])\n",
    "#po_list= scans['points'].tolist() #=list(scans['points'])\n",
    "po_list=scans['points'].values.tolist()\n",
    "print(po_list[0])\n",
    "#scans['points_list']=po_list\n",
    "\n",
    "print(type(scans['points_list'][0]))\n",
    "#scans['points'][0]"
   ]
  },
  {
   "cell_type": "code",
   "execution_count": 109,
   "id": "9adb6bdc",
   "metadata": {},
   "outputs": [
    {
     "name": "stdout",
     "output_type": "stream",
     "text": [
      "<bound method DataFrame.info of                                                       0\n",
      "0     [[353.34375, 390.0], [354.625, 390.0], [355.93...\n",
      "1     [[350.96875, 417.0], [358.875, 421.0], [0.1718...\n",
      "2     [[355.65625, 394.0], [4.84375, 419.0], [6.1718...\n",
      "3     [[355.28125, 395.0], [357.890625, 422.0], [4.5...\n",
      "4     [[355.6875, 394.0], [4.90625, 419.0], [6.20312...\n",
      "...                                                 ...\n",
      "1195  [[358.265625, 303.0], [6.453125, 193.0], [12.9...\n",
      "1196  [[352.890625, 327.0], [358.203125, 305.0], [12...\n",
      "1197  [[351.96875, 333.0], [353.28125, 325.0], [14.7...\n",
      "1198  [[358.546875, 303.0], [14.65625, 176.0], [16.0...\n",
      "1199  [[358.390625, 304.0], [6.578125, 194.0], [13.0...\n",
      "\n",
      "[1200 rows x 1 columns]>\n"
     ]
    }
   ],
   "source": [
    "df1 = pd.DataFrame(scans['points'].values.tolist())\n",
    "print(df1.info)"
   ]
  },
  {
   "cell_type": "code",
   "execution_count": 120,
   "id": "5b8f8a92",
   "metadata": {},
   "outputs": [
    {
     "name": "stdout",
     "output_type": "stream",
     "text": [
      "<class 'pandas.core.frame.DataFrame'>\n",
      "RangeIndex: 1200 entries, 0 to 1199\n",
      "Data columns (total 4 columns):\n",
      " #   Column       Non-Null Count  Dtype  \n",
      "---  ------       --------------  -----  \n",
      " 0   points       1200 non-null   object \n",
      " 1   direction    1200 non-null   float64\n",
      " 2   correction   1200 non-null   float64\n",
      " 3   poinst_list  1200 non-null   object \n",
      "dtypes: float64(2), object(2)\n",
      "memory usage: 37.6+ KB\n"
     ]
    },
    {
     "data": {
      "text/plain": [
       "0    [[353.34375, 390.0], [354.625, 390.0], [355.93...\n",
       "Name: poinst_list, dtype: object"
      ]
     },
     "execution_count": 120,
     "metadata": {},
     "output_type": "execute_result"
    }
   ],
   "source": [
    "scans['poinst_list'] = df1\n",
    "#del scans['point_list']\n",
    "scans.info()\n",
    "scans['poinst_list'] [:1]\n",
    "\n"
   ]
  },
  {
   "cell_type": "code",
   "execution_count": 124,
   "id": "59640796",
   "metadata": {},
   "outputs": [
    {
     "data": {
      "text/plain": [
       "'[[353.34375, 390.0], [354.625, 390.0], [355.9375, 394.0], [1.171875, 422.0], [5.078125, 422.0], [6.390625, 415.0], [7.71875, 411.0], [12.921875, 349.0], [14.234375, 357.0], [33.21875, 133.0], [34.484375, 133.0], [35.8125, 135.0], [40.796875, 161.0], [42.140625, 164.0], [315.796875, 61.0], [316.921875, 62.0], [318.328125, 64.0], [319.421875, 66.0], [320.84375, 68.0], [321.9375, 70.0], [323.203125, 72.0], [325.671875, 77.0], [328.265625, 82.0]]'"
      ]
     },
     "execution_count": 124,
     "metadata": {},
     "output_type": "execute_result"
    }
   ],
   "source": [
    "# distribution of lists\n",
    "scans['poinst_list'][:1][0]"
   ]
  },
  {
   "cell_type": "code",
   "execution_count": 22,
   "id": "2041f097",
   "metadata": {},
   "outputs": [
    {
     "name": "stdout",
     "output_type": "stream",
     "text": [
      "<class 'pandas.core.frame.DataFrame'>\n",
      "Int64Index: 960 entries, 331 to 1126\n",
      "Data columns (total 3 columns):\n",
      " #   Column      Non-Null Count  Dtype  \n",
      "---  ------      --------------  -----  \n",
      " 0   points      960 non-null    object \n",
      " 1   direction   960 non-null    float64\n",
      " 2   correction  960 non-null    float64\n",
      "dtypes: float64(2), object(1)\n",
      "memory usage: 30.0+ KB\n",
      "<class 'pandas.core.frame.DataFrame'>\n",
      "Int64Index: 240 entries, 1178 to 874\n",
      "Data columns (total 3 columns):\n",
      " #   Column      Non-Null Count  Dtype  \n",
      "---  ------      --------------  -----  \n",
      " 0   points      240 non-null    object \n",
      " 1   direction   240 non-null    float64\n",
      " 2   correction  240 non-null    float64\n",
      "dtypes: float64(2), object(1)\n",
      "memory usage: 7.5+ KB\n"
     ]
    }
   ],
   "source": [
    "# separate train and test set\n",
    "from sklearn.model_selection import train_test_split\n",
    "\n",
    "train_set, test_set = train_test_split(scans, test_size=0.2, random_state=42)\n",
    "train_set.info()\n",
    "test_set.info()"
   ]
  },
  {
   "cell_type": "code",
   "execution_count": null,
   "id": "5d858e45",
   "metadata": {},
   "outputs": [],
   "source": []
  }
 ],
 "metadata": {
  "kernelspec": {
   "display_name": "Python 3 (ipykernel)",
   "language": "python",
   "name": "python3"
  },
  "language_info": {
   "codemirror_mode": {
    "name": "ipython",
    "version": 3
   },
   "file_extension": ".py",
   "mimetype": "text/x-python",
   "name": "python",
   "nbconvert_exporter": "python",
   "pygments_lexer": "ipython3",
   "version": "3.10.4"
  }
 },
 "nbformat": 4,
 "nbformat_minor": 5
}
