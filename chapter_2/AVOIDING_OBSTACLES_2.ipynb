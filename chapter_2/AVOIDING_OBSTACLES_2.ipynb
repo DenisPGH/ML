{
 "cells": [
  {
   "cell_type": "code",
   "execution_count": 1,
   "id": "394b3fb8",
   "metadata": {},
   "outputs": [
    {
     "name": "stdout",
     "output_type": "stream",
     "text": [
      "<class 'pandas.core.frame.DataFrame'>\n",
      "RangeIndex: 1200 entries, 0 to 1199\n",
      "Data columns (total 3 columns):\n",
      " #   Column      Non-Null Count  Dtype  \n",
      "---  ------      --------------  -----  \n",
      " 0   points      1200 non-null   object \n",
      " 1   direction   1200 non-null   float64\n",
      " 2   correction  1200 non-null   float64\n",
      "dtypes: float64(2), object(1)\n",
      "memory usage: 28.2+ KB\n"
     ]
    }
   ],
   "source": [
    "# load the data set\n",
    "import pandas as pd\n",
    "PATH=\"C:/Users/Owner/Desktop/projects\\ML/chapter_2/ml_scans.csv\"\n",
    "NEW_PATH=\"C:/Users/Owner/Desktop/projects\\ML/chapter_2/ml_scans_sections.csv\"\n",
    "\n",
    "def load_data(housing_path=PATH):\n",
    "    return pd.read_csv(PATH)\n",
    "\n",
    "scans=load_data()\n",
    "\n",
    "scans.info()"
   ]
  },
  {
   "cell_type": "code",
   "execution_count": 2,
   "id": "9cdd92cf",
   "metadata": {},
   "outputs": [],
   "source": [
    "scans.loc[scans[\"correction\"] > 360, \"correction\"] = scans[\"correction\"]/100\n",
    "scans.loc[scans[\"correction\"]  <0, \"correction\"] = scans[\"correction\"]/100"
   ]
  },
  {
   "cell_type": "code",
   "execution_count": 8,
   "id": "dc3ac47f",
   "metadata": {},
   "outputs": [],
   "source": [
    "def convert_list_into_sections(data):\n",
    "    data=list(data[:2])\n",
    "    return data"
   ]
  },
  {
   "cell_type": "code",
   "execution_count": 9,
   "id": "8ced9e2a",
   "metadata": {},
   "outputs": [],
   "source": [
    "# convert points to sections\n",
    "#scans['points_sections']=scans.apply(lambda row : add(row['A'], row['B'], row['C']), axis = 1)\n",
    "scans['points_sections']=scans.apply(lambda row : convert_list_into_sections(row['points']), axis = 1)"
   ]
  },
  {
   "cell_type": "code",
   "execution_count": 5,
   "id": "bf7cfd80",
   "metadata": {},
   "outputs": [
    {
     "name": "stdout",
     "output_type": "stream",
     "text": [
      "<class 'pandas.core.frame.DataFrame'>\n",
      "RangeIndex: 1200 entries, 0 to 1199\n",
      "Data columns (total 4 columns):\n",
      " #   Column           Non-Null Count  Dtype  \n",
      "---  ------           --------------  -----  \n",
      " 0   points           1200 non-null   object \n",
      " 1   direction        1200 non-null   float64\n",
      " 2   correction       1200 non-null   float64\n",
      " 3   points_sections  1200 non-null   object \n",
      "dtypes: float64(2), object(2)\n",
      "memory usage: 37.6+ KB\n"
     ]
    }
   ],
   "source": [
    "scans.info()"
   ]
  },
  {
   "cell_type": "code",
   "execution_count": 12,
   "id": "51f7c6e7",
   "metadata": {},
   "outputs": [
    {
     "data": {
      "text/plain": [
       "0    [[, []\n",
       "1    [[, []\n",
       "2    [[, []\n",
       "Name: points_sections, dtype: object"
      ]
     },
     "execution_count": 12,
     "metadata": {},
     "output_type": "execute_result"
    }
   ],
   "source": [
    "scans['points_sections'][:3]"
   ]
  },
  {
   "cell_type": "code",
   "execution_count": null,
   "id": "40b75c0f",
   "metadata": {},
   "outputs": [],
   "source": []
  }
 ],
 "metadata": {
  "kernelspec": {
   "display_name": "Python 3 (ipykernel)",
   "language": "python",
   "name": "python3"
  },
  "language_info": {
   "codemirror_mode": {
    "name": "ipython",
    "version": 3
   },
   "file_extension": ".py",
   "mimetype": "text/x-python",
   "name": "python",
   "nbconvert_exporter": "python",
   "pygments_lexer": "ipython3",
   "version": "3.10.4"
  }
 },
 "nbformat": 4,
 "nbformat_minor": 5
}
