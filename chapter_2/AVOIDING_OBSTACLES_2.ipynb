{
 "cells": [
  {
   "cell_type": "code",
   "execution_count": 141,
   "id": "d8a892af",
   "metadata": {},
   "outputs": [
    {
     "data": {
      "text/html": [
       "<div>\n",
       "<style scoped>\n",
       "    .dataframe tbody tr th:only-of-type {\n",
       "        vertical-align: middle;\n",
       "    }\n",
       "\n",
       "    .dataframe tbody tr th {\n",
       "        vertical-align: top;\n",
       "    }\n",
       "\n",
       "    .dataframe thead th {\n",
       "        text-align: right;\n",
       "    }\n",
       "</style>\n",
       "<table border=\"1\" class=\"dataframe\">\n",
       "  <thead>\n",
       "    <tr style=\"text-align: right;\">\n",
       "      <th></th>\n",
       "      <th>325</th>\n",
       "      <th>335</th>\n",
       "      <th>345</th>\n",
       "      <th>355</th>\n",
       "      <th>5</th>\n",
       "      <th>15</th>\n",
       "      <th>25</th>\n",
       "      <th>35</th>\n",
       "      <th>45</th>\n",
       "      <th>direction</th>\n",
       "      <th>correction</th>\n",
       "    </tr>\n",
       "  </thead>\n",
       "  <tbody>\n",
       "    <tr>\n",
       "      <th>202</th>\n",
       "      <td>364.0</td>\n",
       "      <td>NaN</td>\n",
       "      <td>295.0</td>\n",
       "      <td>264.0</td>\n",
       "      <td>288.0</td>\n",
       "      <td>276.0</td>\n",
       "      <td>231.0</td>\n",
       "      <td>NaN</td>\n",
       "      <td>86.0</td>\n",
       "      <td>36.0</td>\n",
       "      <td>0.0</td>\n",
       "    </tr>\n",
       "    <tr>\n",
       "      <th>203</th>\n",
       "      <td>363.0</td>\n",
       "      <td>294.0</td>\n",
       "      <td>298.0</td>\n",
       "      <td>263.0</td>\n",
       "      <td>288.0</td>\n",
       "      <td>271.0</td>\n",
       "      <td>232.0</td>\n",
       "      <td>NaN</td>\n",
       "      <td>NaN</td>\n",
       "      <td>38.0</td>\n",
       "      <td>0.0</td>\n",
       "    </tr>\n",
       "    <tr>\n",
       "      <th>204</th>\n",
       "      <td>361.0</td>\n",
       "      <td>295.0</td>\n",
       "      <td>289.0</td>\n",
       "      <td>260.0</td>\n",
       "      <td>289.0</td>\n",
       "      <td>279.0</td>\n",
       "      <td>233.0</td>\n",
       "      <td>106.0</td>\n",
       "      <td>87.0</td>\n",
       "      <td>40.0</td>\n",
       "      <td>0.0</td>\n",
       "    </tr>\n",
       "  </tbody>\n",
       "</table>\n",
       "</div>"
      ],
      "text/plain": [
       "       325    335    345    355      5     15     25     35    45  direction  \\\n",
       "202  364.0    NaN  295.0  264.0  288.0  276.0  231.0    NaN  86.0       36.0   \n",
       "203  363.0  294.0  298.0  263.0  288.0  271.0  232.0    NaN   NaN       38.0   \n",
       "204  361.0  295.0  289.0  260.0  289.0  279.0  233.0  106.0  87.0       40.0   \n",
       "\n",
       "     correction  \n",
       "202         0.0  \n",
       "203         0.0  \n",
       "204         0.0  "
      ]
     },
     "execution_count": 141,
     "metadata": {},
     "output_type": "execute_result"
    }
   ],
   "source": [
    "# load the data set\n",
    "import pandas as pd\n",
    "\n",
    "PATH=\"C:/Users/Owner/Desktop/projects\\ML/chapter_2/ml_scans_changed.csv\"\n",
    "scans=pd.read_csv(PATH)\n",
    "\n",
    "#scans.info()\n",
    "scans.iloc[202:205]"
   ]
  },
  {
   "cell_type": "code",
   "execution_count": 142,
   "id": "8fdf89e2",
   "metadata": {},
   "outputs": [
    {
     "data": {
      "text/html": [
       "<div>\n",
       "<style scoped>\n",
       "    .dataframe tbody tr th:only-of-type {\n",
       "        vertical-align: middle;\n",
       "    }\n",
       "\n",
       "    .dataframe tbody tr th {\n",
       "        vertical-align: top;\n",
       "    }\n",
       "\n",
       "    .dataframe thead th {\n",
       "        text-align: right;\n",
       "    }\n",
       "</style>\n",
       "<table border=\"1\" class=\"dataframe\">\n",
       "  <thead>\n",
       "    <tr style=\"text-align: right;\">\n",
       "      <th></th>\n",
       "      <th>325</th>\n",
       "      <th>335</th>\n",
       "      <th>345</th>\n",
       "      <th>355</th>\n",
       "      <th>5</th>\n",
       "      <th>15</th>\n",
       "      <th>25</th>\n",
       "      <th>35</th>\n",
       "      <th>45</th>\n",
       "      <th>direction</th>\n",
       "      <th>correction</th>\n",
       "    </tr>\n",
       "  </thead>\n",
       "  <tbody>\n",
       "    <tr>\n",
       "      <th>202</th>\n",
       "      <td>364.0</td>\n",
       "      <td>329.5</td>\n",
       "      <td>295.0</td>\n",
       "      <td>264.0</td>\n",
       "      <td>288.0</td>\n",
       "      <td>276.0</td>\n",
       "      <td>231.0</td>\n",
       "      <td>158.5</td>\n",
       "      <td>86.0</td>\n",
       "      <td>36.0</td>\n",
       "      <td>0.0</td>\n",
       "    </tr>\n",
       "    <tr>\n",
       "      <th>203</th>\n",
       "      <td>363.0</td>\n",
       "      <td>294.0</td>\n",
       "      <td>298.0</td>\n",
       "      <td>263.0</td>\n",
       "      <td>288.0</td>\n",
       "      <td>271.0</td>\n",
       "      <td>232.0</td>\n",
       "      <td>232.0</td>\n",
       "      <td>232.0</td>\n",
       "      <td>38.0</td>\n",
       "      <td>0.0</td>\n",
       "    </tr>\n",
       "    <tr>\n",
       "      <th>204</th>\n",
       "      <td>361.0</td>\n",
       "      <td>295.0</td>\n",
       "      <td>289.0</td>\n",
       "      <td>260.0</td>\n",
       "      <td>289.0</td>\n",
       "      <td>279.0</td>\n",
       "      <td>233.0</td>\n",
       "      <td>106.0</td>\n",
       "      <td>87.0</td>\n",
       "      <td>40.0</td>\n",
       "      <td>0.0</td>\n",
       "    </tr>\n",
       "  </tbody>\n",
       "</table>\n",
       "</div>"
      ],
      "text/plain": [
       "       325    335    345    355      5     15     25     35     45  direction  \\\n",
       "202  364.0  329.5  295.0  264.0  288.0  276.0  231.0  158.5   86.0       36.0   \n",
       "203  363.0  294.0  298.0  263.0  288.0  271.0  232.0  232.0  232.0       38.0   \n",
       "204  361.0  295.0  289.0  260.0  289.0  279.0  233.0  106.0   87.0       40.0   \n",
       "\n",
       "     correction  \n",
       "202         0.0  \n",
       "203         0.0  \n",
       "204         0.0  "
      ]
     },
     "execution_count": 142,
     "metadata": {},
     "output_type": "execute_result"
    }
   ],
   "source": [
    "# repalce 0 value to median\n",
    "#df['a']=df['a'].replace(0,df['a'].mean())\n",
    "cols = ['325'\t,'335',\t'345',\t'355',\t'5',\t'15',\t'25',\t'35',\t'45']\n",
    "#scans[cols]=scans[cols].replace(0,scans[cols].mean(axis=1))\n",
    "\n",
    "#scans[cols]=scans[cols].replace(0,scans[cols])\n",
    "#scans.fillna(scans.mean(axis=1), axis=1)\n",
    "\n",
    "#### replace nan with neighbour sum/2\n",
    "m = scans[cols].mean(axis=1)\n",
    "#m=30\n",
    "for i, col in enumerate(scans[cols]):\n",
    "    # using i allows for duplicate columns\n",
    "    # inplace *may* not always work here, so IMO the next line is preferred\n",
    "    # df.iloc[:, i].fillna(m, inplace=True)\n",
    "    scans.iloc[:, i] = scans.iloc[:, i].fillna((scans.iloc[:, i+1]+scans.iloc[:, i-1])/2)\n",
    "    \n",
    "### if still has Nan== index -1 value\n",
    "for i, col in enumerate(scans[cols]):\n",
    "    scans.iloc[:, i] = scans.iloc[:, i].fillna(scans.iloc[:, i-1])\n",
    "\n",
    "scans.iloc[202:205]"
   ]
  },
  {
   "cell_type": "code",
   "execution_count": 143,
   "id": "b7e40d2c",
   "metadata": {},
   "outputs": [],
   "source": [
    "# separate train and test set\n",
    "from sklearn.model_selection import train_test_split\n",
    "\n",
    "train_set, test_set = train_test_split(scans, test_size=0.2, random_state=42)\n",
    "#train_set.info()\n",
    "#test_set.info()"
   ]
  },
  {
   "cell_type": "code",
   "execution_count": 144,
   "id": "bbe26000",
   "metadata": {},
   "outputs": [
    {
     "data": {
      "text/plain": [
       "correction    1.000000\n",
       "345           0.273351\n",
       "325           0.263671\n",
       "335           0.215391\n",
       "355           0.095328\n",
       "5             0.052156\n",
       "15           -0.104242\n",
       "25           -0.162764\n",
       "35           -0.311255\n",
       "45           -0.322883\n",
       "direction    -0.438641\n",
       "Name: correction, dtype: float64"
      ]
     },
     "execution_count": 144,
     "metadata": {},
     "output_type": "execute_result"
    }
   ],
   "source": [
    "## looking for correlation \n",
    "corr_matrix=scans.corr()\n",
    "corr_matrix['correction'].sort_values(ascending=False)"
   ]
  },
  {
   "cell_type": "code",
   "execution_count": 145,
   "id": "e8198afe",
   "metadata": {},
   "outputs": [
    {
     "data": {
      "text/plain": [
       "331   -110.0\n",
       "409   -130.0\n",
       "76       0.0\n",
       "868      0.0\n",
       "138      0.0\n",
       "Name: correction, dtype: float64"
      ]
     },
     "execution_count": 145,
     "metadata": {},
     "output_type": "execute_result"
    }
   ],
   "source": [
    "############## prepare the data for ML(separate labels from predictors)\n",
    "train_labels = train_set[\"correction\"].copy() # labels\n",
    "train = train_set.drop(\"correction\", axis=1) # predictors(witout lables)\n",
    "scans.iloc[:5]\n",
    "scans_labels.iloc[:5]"
   ]
  },
  {
   "cell_type": "code",
   "execution_count": 146,
   "id": "bbd391c9",
   "metadata": {},
   "outputs": [],
   "source": [
    "#scans.info()"
   ]
  },
  {
   "cell_type": "code",
   "execution_count": 147,
   "id": "b9d37435",
   "metadata": {},
   "outputs": [
    {
     "data": {
      "text/html": [
       "<style>#sk-container-id-7 {color: black;background-color: white;}#sk-container-id-7 pre{padding: 0;}#sk-container-id-7 div.sk-toggleable {background-color: white;}#sk-container-id-7 label.sk-toggleable__label {cursor: pointer;display: block;width: 100%;margin-bottom: 0;padding: 0.3em;box-sizing: border-box;text-align: center;}#sk-container-id-7 label.sk-toggleable__label-arrow:before {content: \"▸\";float: left;margin-right: 0.25em;color: #696969;}#sk-container-id-7 label.sk-toggleable__label-arrow:hover:before {color: black;}#sk-container-id-7 div.sk-estimator:hover label.sk-toggleable__label-arrow:before {color: black;}#sk-container-id-7 div.sk-toggleable__content {max-height: 0;max-width: 0;overflow: hidden;text-align: left;background-color: #f0f8ff;}#sk-container-id-7 div.sk-toggleable__content pre {margin: 0.2em;color: black;border-radius: 0.25em;background-color: #f0f8ff;}#sk-container-id-7 input.sk-toggleable__control:checked~div.sk-toggleable__content {max-height: 200px;max-width: 100%;overflow: auto;}#sk-container-id-7 input.sk-toggleable__control:checked~label.sk-toggleable__label-arrow:before {content: \"▾\";}#sk-container-id-7 div.sk-estimator input.sk-toggleable__control:checked~label.sk-toggleable__label {background-color: #d4ebff;}#sk-container-id-7 div.sk-label input.sk-toggleable__control:checked~label.sk-toggleable__label {background-color: #d4ebff;}#sk-container-id-7 input.sk-hidden--visually {border: 0;clip: rect(1px 1px 1px 1px);clip: rect(1px, 1px, 1px, 1px);height: 1px;margin: -1px;overflow: hidden;padding: 0;position: absolute;width: 1px;}#sk-container-id-7 div.sk-estimator {font-family: monospace;background-color: #f0f8ff;border: 1px dotted black;border-radius: 0.25em;box-sizing: border-box;margin-bottom: 0.5em;}#sk-container-id-7 div.sk-estimator:hover {background-color: #d4ebff;}#sk-container-id-7 div.sk-parallel-item::after {content: \"\";width: 100%;border-bottom: 1px solid gray;flex-grow: 1;}#sk-container-id-7 div.sk-label:hover label.sk-toggleable__label {background-color: #d4ebff;}#sk-container-id-7 div.sk-serial::before {content: \"\";position: absolute;border-left: 1px solid gray;box-sizing: border-box;top: 0;bottom: 0;left: 50%;z-index: 0;}#sk-container-id-7 div.sk-serial {display: flex;flex-direction: column;align-items: center;background-color: white;padding-right: 0.2em;padding-left: 0.2em;position: relative;}#sk-container-id-7 div.sk-item {position: relative;z-index: 1;}#sk-container-id-7 div.sk-parallel {display: flex;align-items: stretch;justify-content: center;background-color: white;position: relative;}#sk-container-id-7 div.sk-item::before, #sk-container-id-7 div.sk-parallel-item::before {content: \"\";position: absolute;border-left: 1px solid gray;box-sizing: border-box;top: 0;bottom: 0;left: 50%;z-index: -1;}#sk-container-id-7 div.sk-parallel-item {display: flex;flex-direction: column;z-index: 1;position: relative;background-color: white;}#sk-container-id-7 div.sk-parallel-item:first-child::after {align-self: flex-end;width: 50%;}#sk-container-id-7 div.sk-parallel-item:last-child::after {align-self: flex-start;width: 50%;}#sk-container-id-7 div.sk-parallel-item:only-child::after {width: 0;}#sk-container-id-7 div.sk-dashed-wrapped {border: 1px dashed gray;margin: 0 0.4em 0.5em 0.4em;box-sizing: border-box;padding-bottom: 0.4em;background-color: white;}#sk-container-id-7 div.sk-label label {font-family: monospace;font-weight: bold;display: inline-block;line-height: 1.2em;}#sk-container-id-7 div.sk-label-container {text-align: center;}#sk-container-id-7 div.sk-container {/* jupyter's `normalize.less` sets `[hidden] { display: none; }` but bootstrap.min.css set `[hidden] { display: none !important; }` so we also need the `!important` here to be able to override the default hidden behavior on the sphinx rendered scikit-learn.org. See: https://github.com/scikit-learn/scikit-learn/issues/21755 */display: inline-block !important;position: relative;}#sk-container-id-7 div.sk-text-repr-fallback {display: none;}</style><div id=\"sk-container-id-7\" class=\"sk-top-container\"><div class=\"sk-text-repr-fallback\"><pre>LinearRegression()</pre><b>In a Jupyter environment, please rerun this cell to show the HTML representation or trust the notebook. <br />On GitHub, the HTML representation is unable to render, please try loading this page with nbviewer.org.</b></div><div class=\"sk-container\" hidden><div class=\"sk-item\"><div class=\"sk-estimator sk-toggleable\"><input class=\"sk-toggleable__control sk-hidden--visually\" id=\"sk-estimator-id-7\" type=\"checkbox\" checked><label for=\"sk-estimator-id-7\" class=\"sk-toggleable__label sk-toggleable__label-arrow\">LinearRegression</label><div class=\"sk-toggleable__content\"><pre>LinearRegression()</pre></div></div></div></div></div>"
      ],
      "text/plain": [
       "LinearRegression()"
      ]
     },
     "execution_count": 147,
     "metadata": {},
     "output_type": "execute_result"
    }
   ],
   "source": [
    "\"\"\"Training and Evaluating on the Training Set\"\"\"\n",
    "# linear Regression\n",
    "from sklearn.linear_model import LinearRegression\n",
    "\n",
    "lin_reg = LinearRegression()\n",
    "lin_reg.fit(train, train_labels) # prepared data(parameters) and labels"
   ]
  },
  {
   "cell_type": "code",
   "execution_count": 148,
   "id": "8eeb1f49",
   "metadata": {},
   "outputs": [
    {
     "name": "stdout",
     "output_type": "stream",
     "text": [
      "Predictions: [  20.4056397519  -29.0768043806  -41.9655963447   33.9570855455\n",
      " -131.3026401908]\n",
      "Labels: [0.0, 0.0, 0.0, 0.0, -170.0]\n"
     ]
    }
   ],
   "source": [
    "# Test linear model\n",
    "some_data = train.iloc[40:45]\n",
    "some_labels = train_labels.iloc[40:45]\n",
    "\n",
    "\n",
    "print(\"Predictions:\", lin_reg.predict(some_data))\n",
    "print(\"Labels:\", list(some_labels))\n"
   ]
  },
  {
   "cell_type": "code",
   "execution_count": 149,
   "id": "dd6ed1d4",
   "metadata": {},
   "outputs": [
    {
     "data": {
      "text/html": [
       "<style>#sk-container-id-8 {color: black;background-color: white;}#sk-container-id-8 pre{padding: 0;}#sk-container-id-8 div.sk-toggleable {background-color: white;}#sk-container-id-8 label.sk-toggleable__label {cursor: pointer;display: block;width: 100%;margin-bottom: 0;padding: 0.3em;box-sizing: border-box;text-align: center;}#sk-container-id-8 label.sk-toggleable__label-arrow:before {content: \"▸\";float: left;margin-right: 0.25em;color: #696969;}#sk-container-id-8 label.sk-toggleable__label-arrow:hover:before {color: black;}#sk-container-id-8 div.sk-estimator:hover label.sk-toggleable__label-arrow:before {color: black;}#sk-container-id-8 div.sk-toggleable__content {max-height: 0;max-width: 0;overflow: hidden;text-align: left;background-color: #f0f8ff;}#sk-container-id-8 div.sk-toggleable__content pre {margin: 0.2em;color: black;border-radius: 0.25em;background-color: #f0f8ff;}#sk-container-id-8 input.sk-toggleable__control:checked~div.sk-toggleable__content {max-height: 200px;max-width: 100%;overflow: auto;}#sk-container-id-8 input.sk-toggleable__control:checked~label.sk-toggleable__label-arrow:before {content: \"▾\";}#sk-container-id-8 div.sk-estimator input.sk-toggleable__control:checked~label.sk-toggleable__label {background-color: #d4ebff;}#sk-container-id-8 div.sk-label input.sk-toggleable__control:checked~label.sk-toggleable__label {background-color: #d4ebff;}#sk-container-id-8 input.sk-hidden--visually {border: 0;clip: rect(1px 1px 1px 1px);clip: rect(1px, 1px, 1px, 1px);height: 1px;margin: -1px;overflow: hidden;padding: 0;position: absolute;width: 1px;}#sk-container-id-8 div.sk-estimator {font-family: monospace;background-color: #f0f8ff;border: 1px dotted black;border-radius: 0.25em;box-sizing: border-box;margin-bottom: 0.5em;}#sk-container-id-8 div.sk-estimator:hover {background-color: #d4ebff;}#sk-container-id-8 div.sk-parallel-item::after {content: \"\";width: 100%;border-bottom: 1px solid gray;flex-grow: 1;}#sk-container-id-8 div.sk-label:hover label.sk-toggleable__label {background-color: #d4ebff;}#sk-container-id-8 div.sk-serial::before {content: \"\";position: absolute;border-left: 1px solid gray;box-sizing: border-box;top: 0;bottom: 0;left: 50%;z-index: 0;}#sk-container-id-8 div.sk-serial {display: flex;flex-direction: column;align-items: center;background-color: white;padding-right: 0.2em;padding-left: 0.2em;position: relative;}#sk-container-id-8 div.sk-item {position: relative;z-index: 1;}#sk-container-id-8 div.sk-parallel {display: flex;align-items: stretch;justify-content: center;background-color: white;position: relative;}#sk-container-id-8 div.sk-item::before, #sk-container-id-8 div.sk-parallel-item::before {content: \"\";position: absolute;border-left: 1px solid gray;box-sizing: border-box;top: 0;bottom: 0;left: 50%;z-index: -1;}#sk-container-id-8 div.sk-parallel-item {display: flex;flex-direction: column;z-index: 1;position: relative;background-color: white;}#sk-container-id-8 div.sk-parallel-item:first-child::after {align-self: flex-end;width: 50%;}#sk-container-id-8 div.sk-parallel-item:last-child::after {align-self: flex-start;width: 50%;}#sk-container-id-8 div.sk-parallel-item:only-child::after {width: 0;}#sk-container-id-8 div.sk-dashed-wrapped {border: 1px dashed gray;margin: 0 0.4em 0.5em 0.4em;box-sizing: border-box;padding-bottom: 0.4em;background-color: white;}#sk-container-id-8 div.sk-label label {font-family: monospace;font-weight: bold;display: inline-block;line-height: 1.2em;}#sk-container-id-8 div.sk-label-container {text-align: center;}#sk-container-id-8 div.sk-container {/* jupyter's `normalize.less` sets `[hidden] { display: none; }` but bootstrap.min.css set `[hidden] { display: none !important; }` so we also need the `!important` here to be able to override the default hidden behavior on the sphinx rendered scikit-learn.org. See: https://github.com/scikit-learn/scikit-learn/issues/21755 */display: inline-block !important;position: relative;}#sk-container-id-8 div.sk-text-repr-fallback {display: none;}</style><div id=\"sk-container-id-8\" class=\"sk-top-container\"><div class=\"sk-text-repr-fallback\"><pre>DecisionTreeRegressor()</pre><b>In a Jupyter environment, please rerun this cell to show the HTML representation or trust the notebook. <br />On GitHub, the HTML representation is unable to render, please try loading this page with nbviewer.org.</b></div><div class=\"sk-container\" hidden><div class=\"sk-item\"><div class=\"sk-estimator sk-toggleable\"><input class=\"sk-toggleable__control sk-hidden--visually\" id=\"sk-estimator-id-8\" type=\"checkbox\" checked><label for=\"sk-estimator-id-8\" class=\"sk-toggleable__label sk-toggleable__label-arrow\">DecisionTreeRegressor</label><div class=\"sk-toggleable__content\"><pre>DecisionTreeRegressor()</pre></div></div></div></div></div>"
      ],
      "text/plain": [
       "DecisionTreeRegressor()"
      ]
     },
     "execution_count": 149,
     "metadata": {},
     "output_type": "execute_result"
    }
   ],
   "source": [
    "\"\"\"DecisionTreeRegressor. This is a powerful model, capable of finding\n",
    "complex nonlinear relationships in the data\"\"\"\n",
    "from sklearn.tree import DecisionTreeRegressor\n",
    "\n",
    "tree_reg = DecisionTreeRegressor()\n",
    "tree_reg.fit(train, train_labels)"
   ]
  },
  {
   "cell_type": "code",
   "execution_count": 152,
   "id": "473551c6",
   "metadata": {},
   "outputs": [
    {
     "name": "stdout",
     "output_type": "stream",
     "text": [
      "Predictions: [   0.   10.    0. -155.  125.    0.  116.    0.    0.    0.]\n",
      "Labels: [0.0, 10.0, 0.0, -155.0, 125.0, 0.0, 116.0, 0.0, 0.0, 0.0]\n"
     ]
    }
   ],
   "source": [
    "f_i=500\n",
    "l_i=510\n",
    "some_data = train.iloc[f_i:l_i]\n",
    "some_labels = train_labels.iloc[f_i:l_i]\n",
    "\n",
    "print(\"Predictions:\", tree_reg.predict(some_data))\n",
    "print(\"Labels:\", list(some_labels))"
   ]
  },
  {
   "cell_type": "code",
   "execution_count": 153,
   "id": "52459f59",
   "metadata": {},
   "outputs": [
    {
     "name": "stdout",
     "output_type": "stream",
     "text": [
      "[39.3992650101 19.93766327   43.9080478576 36.5055646443 32.4777167198\n",
      " 43.7880786668 20.8244147577 31.3566513412 12.8496919548 36.3209076612]\n"
     ]
    }
   ],
   "source": [
    "from sklearn.model_selection import cross_val_score\n",
    "import numpy as np\n",
    "np.set_printoptions(precision=10, suppress=True)\n",
    "\n",
    "scores = cross_val_score(tree_reg, train, train_labels,\n",
    "scoring=\"neg_mean_squared_error\", cv=10)\n",
    "tree_rmse_scores = np.sqrt(-scores)\n",
    "print(tree_rmse_scores)"
   ]
  },
  {
   "cell_type": "code",
   "execution_count": 154,
   "id": "e595d412",
   "metadata": {},
   "outputs": [
    {
     "name": "stdout",
     "output_type": "stream",
     "text": [
      "38.05171919024597\n"
     ]
    }
   ],
   "source": [
    "''' Evaluate Your System on the Test Set '''\n",
    "from sklearn.metrics import mean_squared_error\n",
    "y_test = test_set[\"correction\"].copy()\n",
    "X_test = test_set.drop(\"correction\", axis=1)\n",
    "\n",
    "final_predictions = tree_reg.predict(X_test)\n",
    "final_mse = mean_squared_error(y_test, final_predictions)\n",
    "final_rmse = np.sqrt(final_mse)\n",
    "print(final_rmse) # => evaluates to "
   ]
  },
  {
   "cell_type": "code",
   "execution_count": 155,
   "id": "83653e36",
   "metadata": {},
   "outputs": [
    {
     "name": "stdout",
     "output_type": "stream",
     "text": [
      "Scores: [39.3992650101 19.93766327   43.9080478576 36.5055646443 32.4777167198\n",
      " 43.7880786668 20.8244147577 31.3566513412 12.8496919548 36.3209076612]\n",
      "Mean: 31.736800188350863\n",
      "Standard deviation: 10.057620103087322\n"
     ]
    }
   ],
   "source": [
    "# Look of results from Cross Validation for DecisionTreeRegressor\n",
    "def display_scores(scores):\n",
    "    print(\"Scores:\", scores) # errors in every 10 small sets\n",
    "    print(\"Mean:\", scores.mean()) # estimate of the performance of your model\n",
    "    print(\"Standard deviation:\", scores.std()) # precise this estimate\n",
    "    \n",
    "display_scores(tree_rmse_scores)"
   ]
  },
  {
   "cell_type": "code",
   "execution_count": 156,
   "id": "e7fce202",
   "metadata": {},
   "outputs": [
    {
     "name": "stdout",
     "output_type": "stream",
     "text": [
      "Predictions: [   0.    0.    0.  -70.  -20.    0.   65.    0. -135.    0.]\n",
      "Labels: [0.0, 0.0, 0.0, -50.0, 0.0, 0.0, 110.0, 0.0, -140.0, 0.0]\n"
     ]
    }
   ],
   "source": [
    "f_i=0\n",
    "l_i=10\n",
    "some_dat =X_test.iloc[f_i:l_i]\n",
    "#print(some_dat)\n",
    "some_label = y_test.iloc[f_i:l_i]\n",
    "\n",
    "print(\"Predictions:\", tree_reg.predict(some_dat))\n",
    "print(\"Labels:\", list(some_label))\n"
   ]
  },
  {
   "cell_type": "code",
   "execution_count": 157,
   "id": "2d03918e",
   "metadata": {},
   "outputs": [
    {
     "name": "stdout",
     "output_type": "stream",
     "text": [
      "8.794846010827401\n",
      "Scores: [33.509257474  19.6118440245 26.5082648865 21.9446523478 22.9448124357\n",
      " 28.8540262391 17.3498273286 21.7235896406 13.8579283865 18.8938641385]\n",
      "Mean: 22.519806690190364\n",
      "Standard deviation: 5.4891172987822525\n"
     ]
    }
   ],
   "source": [
    "#OTHER MODEL ->  RandomForestRegressor \n",
    "from sklearn.ensemble import RandomForestRegressor\n",
    "\n",
    "forest_reg = RandomForestRegressor()\n",
    "forest_reg.fit(train, train_labels)\n",
    "\n",
    "predictions = forest_reg.predict(train)\n",
    "forest_mse = mean_squared_error(train_labels,predictions)\n",
    "forest_rmse = np.sqrt(forest_mse)\n",
    "print(forest_rmse)#\n",
    "\n",
    "\n",
    "forest_scores = cross_val_score(forest_reg,train,train_labels,\n",
    "                    scoring=\"neg_mean_squared_error\", cv=10)\n",
    "\n",
    "forest_rmse_scores = np.sqrt(-forest_scores)\n",
    "\n",
    "\n",
    "display_scores(forest_rmse_scores) #Mean: 50182.303100336096,Standard deviation: 2097.0810550985693"
   ]
  },
  {
   "cell_type": "code",
   "execution_count": 158,
   "id": "7e15a684",
   "metadata": {},
   "outputs": [
    {
     "name": "stdout",
     "output_type": "stream",
     "text": [
      "Predictions: [86.65  0.    0.    0.    0.    3.45  0.    0.   44.21 99.5 ]\n",
      "Labels: [85.0, 0.0, 0.0, 0.0, 0.0, 0.0, 0.0, 0.0, 45.0, 170.0]\n"
     ]
    }
   ],
   "source": [
    "f_i=200\n",
    "l_i=210\n",
    "some_data = train.iloc[f_i:l_i]\n",
    "some_labels = train_labels.iloc[f_i:l_i]\n",
    "\n",
    "print(\"Predictions:\", forest_reg.predict(some_data))\n",
    "print(\"Labels:\", list(some_labels))"
   ]
  },
  {
   "cell_type": "code",
   "execution_count": 160,
   "id": "a33577b8",
   "metadata": {},
   "outputs": [
    {
     "name": "stdout",
     "output_type": "stream",
     "text": [
      "Predictions test set: [-65.1]\n",
      "Labels test set: [-80.0]\n"
     ]
    }
   ],
   "source": [
    "''' Evaluate Your System on the Test Set- RandomForestRegressor '''\n",
    "from sklearn.metrics import mean_squared_error\n",
    "y_test = test_set[\"correction\"].copy()\n",
    "X_test = test_set.drop(\"correction\", axis=1)\n",
    "\n",
    "f_i=20\n",
    "l_i=21\n",
    "final_predictions =  forest_reg.predict(X_test.iloc[f_i:l_i])\n",
    "print(\"Predictions test set:\",final_predictions )\n",
    "print(\"Labels test set:\", list(y_test.iloc[f_i:l_i]))\n"
   ]
  },
  {
   "cell_type": "code",
   "execution_count": null,
   "id": "4f8cb8c6",
   "metadata": {},
   "outputs": [],
   "source": []
  },
  {
   "cell_type": "code",
   "execution_count": 182,
   "id": "5aebc4b8",
   "metadata": {},
   "outputs": [
    {
     "name": "stdout",
     "output_type": "stream",
     "text": [
      "   325   335   345  355     5    15  25  35  45  direction\n",
      "0   30  26.5  22.5   22  21.5  22.5  23  25  40        345\n"
     ]
    }
   ],
   "source": [
    "### test with real data\n",
    "import csv\n",
    "class TEST:\n",
    "    def __init__(self):\n",
    "        self.a=315\n",
    "        self.b=325\n",
    "        self.c=335\n",
    "        self.d=345\n",
    "        self.e=355\n",
    "        self.f=5\n",
    "        self.g=15\n",
    "        self.h=25\n",
    "        self.i=35\n",
    "        self.k=45\n",
    "        self.PATH_TEST=\"C:/Users/Owner/Desktop/projects\\ML/chapter_2/one_scan.csv\"\n",
    "        \n",
    "    def create_test_file(self):\n",
    "        with open(self.PATH_TEST,'w',newline='') as new_file:\n",
    "                    writer = csv.writer(new_file)\n",
    "                    fields = [f\"{self.b}\", f\"{self.c}\", f\"{self.d}\",f\"{self.e}\",f\"{self.f}\",f\"{self.g}\",f\"{self.h}\",f\"{self.i}\",f\"{self.k}\",'direction']\n",
    "                    writer.writerow(fields)\n",
    "                    writer.writerow([30,26.5,22.5,22,21.5,22.5,23,25,40,345])  # \n",
    "        return pd.read_csv(self.PATH_TEST)\n",
    "t=TEST()    \n",
    "test=t.create_test_file()\n",
    "print(test)\n",
    "            "
   ]
  },
  {
   "cell_type": "code",
   "execution_count": 178,
   "id": "acd8258d",
   "metadata": {},
   "outputs": [
    {
     "name": "stdout",
     "output_type": "stream",
     "text": [
      "Predictions DecisionTreeRegressor : [-155.]\n",
      "Predictions RandomForestRegressor : [-146.95]\n"
     ]
    }
   ],
   "source": [
    "# test=[[300,300,290,280,200,200,1000,1200,1234,20]]\n",
    "print(\"Predictions DecisionTreeRegressor :\", tree_reg.predict(test))\n",
    "print(\"Predictions RandomForestRegressor :\" ,forest_reg.predict(test))"
   ]
  },
  {
   "cell_type": "code",
   "execution_count": 185,
   "id": "c1dd09c3",
   "metadata": {},
   "outputs": [],
   "source": [
    "### SAVE MODELS \n",
    "import joblib\n",
    "#joblib.dump(forest_reg, \"my_model.pkl\")\n",
    "# and later...\n",
    "forest_reg_loaded = joblib.load(\"my_model.pkl\")"
   ]
  },
  {
   "cell_type": "code",
   "execution_count": 186,
   "id": "9e717075",
   "metadata": {},
   "outputs": [
    {
     "name": "stdout",
     "output_type": "stream",
     "text": [
      "Predictions RandomForestRegressor : [-146.95]\n"
     ]
    }
   ],
   "source": [
    "print(\"Predictions RandomForestRegressor :\" ,forest_reg_loaded.predict(test))"
   ]
  },
  {
   "cell_type": "code",
   "execution_count": null,
   "id": "e1cadda4",
   "metadata": {},
   "outputs": [],
   "source": []
  }
 ],
 "metadata": {
  "kernelspec": {
   "display_name": "Python 3 (ipykernel)",
   "language": "python",
   "name": "python3"
  },
  "language_info": {
   "codemirror_mode": {
    "name": "ipython",
    "version": 3
   },
   "file_extension": ".py",
   "mimetype": "text/x-python",
   "name": "python",
   "nbconvert_exporter": "python",
   "pygments_lexer": "ipython3",
   "version": "3.10.4"
  }
 },
 "nbformat": 4,
 "nbformat_minor": 5
}
