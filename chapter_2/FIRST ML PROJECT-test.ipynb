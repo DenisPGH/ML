{
 "cells": [
  {
   "cell_type": "code",
   "execution_count": 16,
   "id": "f5456500",
   "metadata": {},
   "outputs": [],
   "source": [
    "import json\n",
    "import csv\n",
    "import pandas as pd\n",
    "import matplotlib.pyplot as plt\n",
    "import numpy as np\n",
    "# create dict from json\n",
    "PATH_POINTS='C:/Users/Owner/Desktop/projects/ML\\chapter_2\\scan_points.json'\n",
    "PATH_POINTS_CSL='C:/Users/Owner/Desktop/projects/ML\\chapter_2\\scan_points.csv'\n",
    "with open(PATH_POINTS) as json_file:\n",
    "    data = json.load(json_file)\n",
    "#print(data) # 'node_points'\n",
    "\n",
    "\n",
    "    \n",
    "\n"
   ]
  },
  {
   "cell_type": "code",
   "execution_count": 8,
   "id": "6fa5e8b3",
   "metadata": {},
   "outputs": [
    {
     "name": "stdout",
     "output_type": "stream",
     "text": [
      "1 [-6.74, 58.61]\n",
      "2 [113.73, 7.64]\n",
      "3 [9.65, -123.61]\n",
      "4 [-140.47, -12.32]\n",
      "5 [-4.4, 62.87]\n"
     ]
    }
   ],
   "source": [
    "## creates csv file\n",
    "\n",
    "\n",
    "with open(PATH_POINTS_CSL, 'w', newline='') as file:\n",
    "    writer = csv.writer(file)\n",
    "    field = [\"node\", \"x\", \"y\"]\n",
    "    writer.writerow(field)\n",
    "    for node,info in data.items():\n",
    "        print(node,info['node_points'][0])\n",
    "        for x,y in info['node_points']:\n",
    "            writer.writerow([node,x, y])"
   ]
  },
  {
   "cell_type": "code",
   "execution_count": 87,
   "id": "46e09623",
   "metadata": {},
   "outputs": [
    {
     "name": "stdout",
     "output_type": "stream",
     "text": [
      "<class 'pandas.core.frame.DataFrame'>\n",
      "RangeIndex: 827 entries, 0 to 826\n",
      "Data columns (total 3 columns):\n",
      " #   Column  Non-Null Count  Dtype  \n",
      "---  ------  --------------  -----  \n",
      " 0   node    827 non-null    int64  \n",
      " 1   x       827 non-null    float64\n",
      " 2   y       827 non-null    float64\n",
      "dtypes: float64(2), int64(1)\n",
      "memory usage: 19.5 KB\n"
     ]
    },
    {
     "data": {
      "text/plain": [
       "<bound method NDFrame.head of      node      x      y\n",
       "0       1  -6.74  58.61\n",
       "1       1  -5.38  58.75\n",
       "2       1  -3.97  58.87\n",
       "3       1  -2.65  58.94\n",
       "4       1  -1.06  58.99\n",
       "..    ...    ...    ...\n",
       "822     5 -11.86  65.96\n",
       "823     5 -10.32  65.21\n",
       "824     5  -8.49  64.46\n",
       "825     5  -6.58  62.68\n",
       "826     5  -5.19  62.81\n",
       "\n",
       "[827 rows x 3 columns]>"
      ]
     },
     "execution_count": 87,
     "metadata": {},
     "output_type": "execute_result"
    }
   ],
   "source": [
    "# open csv with pandas\n",
    "points=pd.read_csv(PATH_POINTS_CSL)\n",
    "points.info()\n",
    "points.head"
   ]
  },
  {
   "cell_type": "code",
   "execution_count": 123,
   "id": "41191241",
   "metadata": {},
   "outputs": [
    {
     "name": "stdout",
     "output_type": "stream",
     "text": [
      "<class 'pandas.core.frame.DataFrame'>\n",
      "Int64Index: 170 entries, 163 to 332\n",
      "Data columns (total 2 columns):\n",
      " #   Column  Non-Null Count  Dtype  \n",
      "---  ------  --------------  -----  \n",
      " 0   x       170 non-null    float64\n",
      " 1   y       170 non-null    float64\n",
      "dtypes: float64(2)\n",
      "memory usage: 4.0 KB\n",
      "<class 'pandas.core.frame.DataFrame'>\n",
      "Int64Index: 174 entries, 333 to 506\n",
      "Data columns (total 2 columns):\n",
      " #   Column  Non-Null Count  Dtype  \n",
      "---  ------  --------------  -----  \n",
      " 0   x       174 non-null    float64\n",
      " 1   y       174 non-null    float64\n",
      "dtypes: float64(2)\n",
      "memory usage: 4.1 KB\n"
     ]
    }
   ],
   "source": [
    "train_nodes=[2]\n",
    "test_nodes=[3]\n",
    "\n",
    "train_set=points[points['node'].isin(train_nodes)]\n",
    "train_set=train_set.drop('node', axis=1)\n",
    "\n",
    "test_set=points[points['node'].isin(test_nodes)]\n",
    "test_set=test_set.drop('node', axis=1)\n",
    "\n",
    "\n",
    "train_set.info()\n",
    "test_set.info()"
   ]
  },
  {
   "cell_type": "code",
   "execution_count": 101,
   "id": "c9d4780f",
   "metadata": {},
   "outputs": [
    {
     "data": {
      "text/plain": [
       "<matplotlib.collections.PathCollection at 0x11820a5f070>"
      ]
     },
     "execution_count": 101,
     "metadata": {},
     "output_type": "execute_result"
    },
    {
     "data": {
      "image/png": "[encoded data removed]",
      "text/plain": [
       "<Figure size 400x300 with 1 Axes>"
      ]
     },
     "metadata": {},
     "output_type": "display_data"
    }
   ],
   "source": [
    "# visual the points\n",
    "fig = plt.figure(figsize=(4,3))\n",
    "plt.scatter(train_set['x'], train_set['y'],s=0.4)"
   ]
  },
  {
   "cell_type": "code",
   "execution_count": 124,
   "id": "f771bf80",
   "metadata": {},
   "outputs": [],
   "source": [
    "# separate in predictors and labels\n",
    "how=30\n",
    "#predictors=train_set.loc[:, train_set.columns != 'y']\n",
    "#predictors=train_set.loc[:, train_set.columns != 'y']\n",
    "#predictors=train_set[train_set[['', 'b']]]\n",
    "predictors=train_set['x'] \n",
    "labels=train_set['y']\n",
    "#labels=train_set.iloc[:, 1].values \n",
    "\n",
    "predictors_test=test_set['x']\n",
    "labels_test=test_set['y']\n",
    "\n",
    "\n",
    "predictors = train_set.iloc[:, :-1].values \n",
    "labels = train_set.iloc[:, 1].values \n",
    "#print(predictors)\n",
    "\n",
    "predictors_test = test_set.iloc[:, :-1].values \n",
    "labels_test = test_set.iloc[:, 1].values \n",
    "\n",
    "\n",
    "\n",
    "#predictors.info()\n",
    "#labels.info()"
   ]
  },
  {
   "cell_type": "code",
   "execution_count": 125,
   "id": "6c96b896",
   "metadata": {},
   "outputs": [
    {
     "data": {
      "text/html": [
       "<style>#sk-container-id-12 {color: black;background-color: white;}#sk-container-id-12 pre{padding: 0;}#sk-container-id-12 div.sk-toggleable {background-color: white;}#sk-container-id-12 label.sk-toggleable__label {cursor: pointer;display: block;width: 100%;margin-bottom: 0;padding: 0.3em;box-sizing: border-box;text-align: center;}#sk-container-id-12 label.sk-toggleable__label-arrow:before {content: \"▸\";float: left;margin-right: 0.25em;color: #696969;}#sk-container-id-12 label.sk-toggleable__label-arrow:hover:before {color: black;}#sk-container-id-12 div.sk-estimator:hover label.sk-toggleable__label-arrow:before {color: black;}#sk-container-id-12 div.sk-toggleable__content {max-height: 0;max-width: 0;overflow: hidden;text-align: left;background-color: #f0f8ff;}#sk-container-id-12 div.sk-toggleable__content pre {margin: 0.2em;color: black;border-radius: 0.25em;background-color: #f0f8ff;}#sk-container-id-12 input.sk-toggleable__control:checked~div.sk-toggleable__content {max-height: 200px;max-width: 100%;overflow: auto;}#sk-container-id-12 input.sk-toggleable__control:checked~label.sk-toggleable__label-arrow:before {content: \"▾\";}#sk-container-id-12 div.sk-estimator input.sk-toggleable__control:checked~label.sk-toggleable__label {background-color: #d4ebff;}#sk-container-id-12 div.sk-label input.sk-toggleable__control:checked~label.sk-toggleable__label {background-color: #d4ebff;}#sk-container-id-12 input.sk-hidden--visually {border: 0;clip: rect(1px 1px 1px 1px);clip: rect(1px, 1px, 1px, 1px);height: 1px;margin: -1px;overflow: hidden;padding: 0;position: absolute;width: 1px;}#sk-container-id-12 div.sk-estimator {font-family: monospace;background-color: #f0f8ff;border: 1px dotted black;border-radius: 0.25em;box-sizing: border-box;margin-bottom: 0.5em;}#sk-container-id-12 div.sk-estimator:hover {background-color: #d4ebff;}#sk-container-id-12 div.sk-parallel-item::after {content: \"\";width: 100%;border-bottom: 1px solid gray;flex-grow: 1;}#sk-container-id-12 div.sk-label:hover label.sk-toggleable__label {background-color: #d4ebff;}#sk-container-id-12 div.sk-serial::before {content: \"\";position: absolute;border-left: 1px solid gray;box-sizing: border-box;top: 0;bottom: 0;left: 50%;z-index: 0;}#sk-container-id-12 div.sk-serial {display: flex;flex-direction: column;align-items: center;background-color: white;padding-right: 0.2em;padding-left: 0.2em;position: relative;}#sk-container-id-12 div.sk-item {position: relative;z-index: 1;}#sk-container-id-12 div.sk-parallel {display: flex;align-items: stretch;justify-content: center;background-color: white;position: relative;}#sk-container-id-12 div.sk-item::before, #sk-container-id-12 div.sk-parallel-item::before {content: \"\";position: absolute;border-left: 1px solid gray;box-sizing: border-box;top: 0;bottom: 0;left: 50%;z-index: -1;}#sk-container-id-12 div.sk-parallel-item {display: flex;flex-direction: column;z-index: 1;position: relative;background-color: white;}#sk-container-id-12 div.sk-parallel-item:first-child::after {align-self: flex-end;width: 50%;}#sk-container-id-12 div.sk-parallel-item:last-child::after {align-self: flex-start;width: 50%;}#sk-container-id-12 div.sk-parallel-item:only-child::after {width: 0;}#sk-container-id-12 div.sk-dashed-wrapped {border: 1px dashed gray;margin: 0 0.4em 0.5em 0.4em;box-sizing: border-box;padding-bottom: 0.4em;background-color: white;}#sk-container-id-12 div.sk-label label {font-family: monospace;font-weight: bold;display: inline-block;line-height: 1.2em;}#sk-container-id-12 div.sk-label-container {text-align: center;}#sk-container-id-12 div.sk-container {/* jupyter's `normalize.less` sets `[hidden] { display: none; }` but bootstrap.min.css set `[hidden] { display: none !important; }` so we also need the `!important` here to be able to override the default hidden behavior on the sphinx rendered scikit-learn.org. See: https://github.com/scikit-learn/scikit-learn/issues/21755 */display: inline-block !important;position: relative;}#sk-container-id-12 div.sk-text-repr-fallback {display: none;}</style><div id=\"sk-container-id-12\" class=\"sk-top-container\"><div class=\"sk-text-repr-fallback\"><pre>RANSACRegressor()</pre><b>In a Jupyter environment, please rerun this cell to show the HTML representation or trust the notebook. <br />On GitHub, the HTML representation is unable to render, please try loading this page with nbviewer.org.</b></div><div class=\"sk-container\" hidden><div class=\"sk-item\"><div class=\"sk-estimator sk-toggleable\"><input class=\"sk-toggleable__control sk-hidden--visually\" id=\"sk-estimator-id-12\" type=\"checkbox\" checked><label for=\"sk-estimator-id-12\" class=\"sk-toggleable__label sk-toggleable__label-arrow\">RANSACRegressor</label><div class=\"sk-toggleable__content\"><pre>RANSACRegressor()</pre></div></div></div></div></div>"
      ],
      "text/plain": [
       "RANSACRegressor()"
      ]
     },
     "execution_count": 125,
     "metadata": {},
     "output_type": "execute_result"
    }
   ],
   "source": [
    "### train the model\n",
    "from sklearn.linear_model import RANSACRegressor\n",
    "Ransac = RANSACRegressor()\n",
    "# training the model\n",
    "Ransac.fit(predictors, labels)\n",
    "\n"
   ]
  },
  {
   "cell_type": "code",
   "execution_count": 114,
   "id": "cd9646ba",
   "metadata": {},
   "outputs": [
    {
     "name": "stdout",
     "output_type": "stream",
     "text": [
      "Total datapoints were :  163\n",
      "Total outliers detected  were :  80\n"
     ]
    }
   ],
   "source": [
    "# inlier mask printing\n",
    "inlier_mask = Ransac.inlier_mask_\n",
    "#print(inlier_mask)\n",
    "\n",
    "# inliers\n",
    "inlier_mask = Ransac.inlier_mask_\n",
    "# for loop to count\n",
    "count = 0\n",
    "for i in inlier_mask:\n",
    "    if i==False:\n",
    "        count +=1\n",
    "# printing\n",
    "print(\"Total datapoints were : \", len(inlier_mask))\n",
    "print(\"Total outliers detected  were : \", count)"
   ]
  },
  {
   "cell_type": "code",
   "execution_count": 116,
   "id": "e0947ca9",
   "metadata": {},
   "outputs": [],
   "source": [
    "# predicting\n",
    "preditions_Ransac = Ransac.predict(predictors_test)\n"
   ]
  },
  {
   "cell_type": "code",
   "execution_count": 119,
   "id": "c8275362",
   "metadata": {},
   "outputs": [],
   "source": [
    "# Importing the required module\n",
    "#from sklearn.metrics import r2_score\n",
    "# Evaluating the model\n",
    "#print('R score is :', r2_score(labels_test, preditions_Ransac))"
   ]
  },
  {
   "cell_type": "code",
   "execution_count": 126,
   "id": "80945503",
   "metadata": {},
   "outputs": [
    {
     "name": "stdout",
     "output_type": "stream",
     "text": [
      "[ 20.92679925  20.88027914  20.84705049  21.17269126  21.18598272\n",
      "  21.22253423  21.35877169  31.73607886  32.27770584  38.35854866\n",
      "  38.67089796  35.23173276  35.82984845  36.59078452  37.16231729\n",
      "  37.0194341   46.31681016  46.66238811  38.64431504  39.93358664\n",
      "  41.17966098  42.41244387  47.78883932  48.86877043  49.90218142\n",
      "  50.93891528  51.90919183  52.91934277  53.91620225  54.86986448\n",
      "  55.83681818  56.76389749  57.69097681  58.66457623  59.59830128\n",
      "  60.53867205  61.46907423  62.4194136   63.33652432  64.26028077\n",
      "  65.2903689   66.18421956  67.11462174  68.1513556   69.07178918\n",
      "  70.09855445  71.09209106  72.01917037  73.00938412  74.00292074\n",
      "  75.04962319  76.11293996  77.30917134  78.35587379 107.2515072\n",
      " 107.74661407 107.92604878 107.80310278 107.57714796 108.55074738\n",
      " 108.61055895 108.13871213 108.12209781 108.09883775 104.28751168\n",
      " 104.08149406 104.15459709 104.21440865 103.90205935 103.90538222\n",
      " 103.85221638 103.77579048 103.68607313 103.55315853 103.72927038\n",
      " 103.5465128  103.33717231 104.09478552 106.20812761 106.23471053\n",
      " 106.23471053 106.20812761 106.15828464 106.08185874 105.9821728\n",
      " 105.85258106 106.02204718 105.8492582  107.41432758 107.96260029\n",
      " 108.49093582 108.98936556 109.43130659 110.12910823 110.75048397\n",
      " 111.31869387 114.77779626 115.522118   115.66167833 115.44901497\n",
      " 115.18650864  79.9375575   77.51851183  76.39538348  75.67099893\n",
      "  74.73062815  70.95253073  70.11516877  69.59015611  69.00200902\n",
      "  68.19787571  67.7060917   67.11462174  65.79544437  65.22723446\n",
      "  64.71883613  64.19050061  63.6222907   63.13382956  61.69170618\n",
      "  61.26970233  60.79785551  60.38914313  59.90068198  59.41554371\n",
      "  58.99021699  58.51172444  58.03987763  57.61787378  57.15267269\n",
      "  56.69079446  56.23556197  55.81355812  55.30515979  54.92303032\n",
      "  54.47444356  54.04247112  53.45764689  53.07884029  52.62360779\n",
      "  52.101918    51.60681113  51.04192409  50.65647176  49.15785967\n",
      "  48.59961837  48.17429166  47.55291591  46.96809169  46.33342449\n",
      "  44.96108127  44.31976834  41.56843618  40.68787697  39.99672107\n",
      "  39.12280759  38.2223112   37.32513767  36.37812116  35.45104185\n",
      "  33.83945236  20.02297999  20.27884059  20.514764    20.64435573\n",
      "  20.47821249  20.6476786   20.85701909  20.74404168  20.65432433]\n"
     ]
    },
    {
     "data": {
      "image/png": "[encoded data removed]",
      "text/plain": [
       "<Figure size 500x300 with 1 Axes>"
      ]
     },
     "metadata": {},
     "output_type": "display_data"
    }
   ],
   "source": [
    "x=predictors\n",
    "y=Ransac.predict(predictors)\n",
    "print(y)\n",
    "plt.figure(figsize=(5, 3))\n",
    "plt.scatter(predictors, labels, color='red',s=0.3)\n",
    "plt.plot(x,y , color='green')\n",
    "# labeling the input and outputs\n",
    "plt.title('Scan vs RANSAC')\n",
    "plt.xlabel('X')\n",
    "plt.ylabel('Y')\n",
    "plt.show()"
   ]
  },
  {
   "cell_type": "code",
   "execution_count": null,
   "id": "c124cebb",
   "metadata": {},
   "outputs": [],
   "source": []
  }
 ],
 "metadata": {
  "kernelspec": {
   "display_name": "Python 3 (ipykernel)",
   "language": "python",
   "name": "python3"
  },
  "language_info": {
   "codemirror_mode": {
    "name": "ipython",
    "version": 3
   },
   "file_extension": ".py",
   "mimetype": "text/x-python",
   "name": "python",
   "nbconvert_exporter": "python",
   "pygments_lexer": "ipython3",
   "version": "3.10.4"
  }
 },
 "nbformat": 4,
 "nbformat_minor": 5
}
